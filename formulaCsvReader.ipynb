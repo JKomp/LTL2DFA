{
 "cells": [
  {
   "cell_type": "code",
   "execution_count": 18,
   "id": "4559aac6-48c4-4f28-9ab2-437b4d494925",
   "metadata": {},
   "outputs": [
    {
     "name": "stdout",
     "output_type": "stream",
     "text": [
      "['source', 'llm_or ', 'Source_ ', 'llm', 'llm_sat', 'avg_rob1', 'avg_rob2', 'template', 'extracted_ ', 'avg_fitness', 'alpha', 'beta', 'runtime', 'comment', 'method', 'Unnamed: 15', 'Unnamed: 16', 'llm_ ']\n",
      "\n",
      "Total datalines in file: 48\n",
      "\n",
      "    Row    Name Description                                  Formula\n",
      "0     0  '10.0'        orig               G((p|(q&r))->X((s)U(t&u)))\n",
      "1     0  '10.0'         LLM         G((p | (q & r)) -> Xs) U (t & u)\n",
      "2     0  '10.0'   Extracted  (X(((p -> (q & r)) -> X(s))) U (t | u))\n",
      "3     1  '10.0'        orig               G((p|(q&r))->X((s)U(t&u)))\n",
      "4     1  '10.0'         LLM      G((p | (q & r)) -> X(Fs U (t & u)))\n",
      "..   ..     ...         ...                                      ...\n",
      "139  46  '56.0'         LLM            G((o & t) -> (h U (t & X!h)))\n",
      "140  46  '56.0'   Extracted       F(((o & !h) -> (h U (t & X(!h)))))\n",
      "141  47  '56.0'        orig                G ((o & t) -> X (h U !t))\n",
      "142  47  '56.0'         LLM                 GF((o & t) -> (Fh U !t))\n",
      "143  47  '56.0'   Extracted                          Not found (Inf)\n",
      "\n",
      "[144 rows x 4 columns]\n"
     ]
    }
   ],
   "source": [
    "import pandas as pd\n",
    "\n",
    "#inFileName = 'finaltable'\n",
    "inFilename = 'AAAIExtra'\n",
    "outFilename = inFilename + 'Mod'\n",
    "\n",
    "df = pd.read_csv(f'{inFilename}.csv')\n",
    "df.ffill(inplace=True) # Fill downward data for merged rows\n",
    "\n",
    "print(list(df))\n",
    "print(f'\\nTotal datalines in file: {len(df.index)}')\n",
    "print()\n",
    "\n",
    "#print(df)\n",
    "\n",
    "# These are the data column names that LTL_TraceGen_Spot is expecting to start the csv file\n",
    "col_names =  ['Row','Name', 'Description', 'Formula'] \n",
    "out_df  = pd.DataFrame(columns = col_names) \n",
    "\n",
    "# These are the descriptions that LTL_TraceGen_Spot is expecting for each formula type\n",
    "desc_names = ['orig', 'LLM', 'Extracted']\n",
    "\n",
    "# Change these names based on the column names from the source. This is always printed at the start of the output\n",
    "src_names  = ['Source_ ','llm','extracted_ ']\n",
    "\n",
    "for row in range(len(df.index)):\n",
    "\n",
    "    for formula in range(3):\n",
    "        recDict = {}\n",
    "        recDict[col_names[0]] = row\n",
    "        recDict[col_names[1]] = f'\\'{df[\"source\"][row]:3.1f}\\'' # Get the original equation's number\n",
    "        recDict[col_names[2]] = desc_names[formula]             # Label this data point per desc_names \n",
    "        recDict[col_names[3]] = df[src_names[formula]][row]     # Get whichever formula per current position in the csv row.\n",
    "        new_record = pd.DataFrame([recDict])\n",
    "        out_df = pd.concat([out_df, new_record], ignore_index=True)\n",
    "\n",
    "\n",
    "#df = pd.concat([df, new_record], ignore_index=True)\n",
    "print(out_df)\n",
    "out_df.to_csv(f'{outFilename}.csv',index=False)"
   ]
  },
  {
   "cell_type": "code",
   "execution_count": null,
   "id": "3139d075-a858-43d4-8159-17a3704352bf",
   "metadata": {},
   "outputs": [],
   "source": []
  }
 ],
 "metadata": {
  "kernelspec": {
   "display_name": "Python 3 (ipykernel)",
   "language": "python",
   "name": "python3"
  },
  "language_info": {
   "codemirror_mode": {
    "name": "ipython",
    "version": 3
   },
   "file_extension": ".py",
   "mimetype": "text/x-python",
   "name": "python",
   "nbconvert_exporter": "python",
   "pygments_lexer": "ipython3",
   "version": "3.10.4"
  }
 },
 "nbformat": 4,
 "nbformat_minor": 5
}
