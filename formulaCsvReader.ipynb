{
 "cells": [
  {
   "cell_type": "code",
   "execution_count": null,
   "id": "4559aac6-48c4-4f28-9ab2-437b4d494925",
   "metadata": {},
   "outputs": [],
   "source": [
    "import pandas as pd\n",
    "\n",
    "#inFileName = 'finaltable'\n",
    "inFilename = 'sem2'\n",
    "outFilename = inFilename + 'Mod'\n",
    "\n",
    "df = pd.read_csv(f'{inFilename}.csv')\n",
    "df.ffill(inplace=True) # Fill downward data for merged rows\n",
    "\n",
    "print(list(df))\n",
    "print(f'\\nTotal datalines in file: {len(df.index)}')\n",
    "print()\n",
    "\n",
    "#print(df)\n",
    "\n",
    "# These are the data column names that LTL_TraceGen_Spot is expecting to start the csv file\n",
    "col_names =  ['Name', 'Description', 'Formula'] \n",
    "out_df  = pd.DataFrame(columns = col_names) \n",
    "\n",
    "# These are the descriptions that LTL_TraceGen_Spot is expecting for each formula type\n",
    "desc_names = ['orig', 'LLM', 'Extracted']\n",
    "\n",
    "# Change these names based on the column names from the source. This is always printed at the start of the output\n",
    "src_names  = ['original ','LLM','Extracted']\n",
    "\n",
    "for row in range(len(df.index)):\n",
    "\n",
    "    for formula in range(3):\n",
    "        recDict = {}\n",
    "        recDict[col_names[0]] = f'\\'{df[\"sem2\"][row]:3.1f}\\''\n",
    "        recDict[col_names[1]] = desc_names[formula]\n",
    "        recDict[col_names[2]] = df[src_names[formula]][row]\n",
    "        new_record = pd.DataFrame([recDict])\n",
    "        out_df = pd.concat([out_df, new_record], ignore_index=True)\n",
    "\n",
    "\n",
    "#df = pd.concat([df, new_record], ignore_index=True)\n",
    "print(out_df)\n",
    "out_df.to_csv(f'{outFilename}.csv',index=False)"
   ]
  },
  {
   "cell_type": "code",
   "execution_count": null,
   "id": "3139d075-a858-43d4-8159-17a3704352bf",
   "metadata": {},
   "outputs": [],
   "source": []
  }
 ],
 "metadata": {
  "kernelspec": {
   "display_name": "Python 3 (ipykernel)",
   "language": "python",
   "name": "python3"
  },
  "language_info": {
   "codemirror_mode": {
    "name": "ipython",
    "version": 3
   },
   "file_extension": ".py",
   "mimetype": "text/x-python",
   "name": "python",
   "nbconvert_exporter": "python",
   "pygments_lexer": "ipython3",
   "version": "3.10.4"
  }
 },
 "nbformat": 4,
 "nbformat_minor": 5
}
